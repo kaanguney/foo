{
 "cells": [
  {
   "cell_type": "code",
   "execution_count": 92,
   "metadata": {},
   "outputs": [],
   "source": [
    "def product(nums):\n",
    "    product = 1\n",
    "    for num in nums:\n",
    "        product *= num\n",
    "    return product \n",
    "\n",
    "def product_of_digits(num):\n",
    "    smallest_digit = 0\n",
    "    store = []\n",
    "    counter = 0\n",
    "    even = False\n",
    "    if num % 2 == 0:\n",
    "        even = True\n",
    "        while(num):\n",
    "            smallest_digit = min(num%10, num)\n",
    "            num //= 10\n",
    "            counter += 1\n",
    "            store.append((counter, smallest_digit))\n",
    "    else:\n",
    "        while(num):\n",
    "            store.append((counter, num%10))\n",
    "            counter += 1\n",
    "            num //= 10\n",
    "    final_arr = sorted(store, key = lambda x: x[1]) \n",
    "    if even:\n",
    "        return final_arr[0][1] * final_arr[1][1] \n",
    "    else:\n",
    "        product_arr = [final_arr[num][1] for num in range(len(final_arr))]\n",
    "        return product(product_arr)\n",
    "\n",
    "def check_solution(actual, tests):\n",
    "    index = 0\n",
    "    success = {}\n",
    "    output = []\n",
    "    for num in tests:\n",
    "        solution = product_of_digits(num)\n",
    "        output.append(solution)\n",
    "        success[index] = True if output[-1] == solution else False\n",
    "        index += 1\n",
    "    return success"
   ]
  },
  {
   "cell_type": "code",
   "execution_count": 99,
   "metadata": {},
   "outputs": [
    {
     "name": "stdout",
     "output_type": "stream",
     "text": [
      "Test Case 0: True\n",
      "Test Case 1: True\n",
      "Test Case 2: True\n",
      "Test Case 3: True\n",
      "Test Case 4: True\n"
     ]
    }
   ],
   "source": [
    "tests = [23234, 24454, 21323, 6732, 72331]\n",
    "actual = [4, 8, 36, 6, 126]\n",
    "success = check_solution(actual, tests)\n",
    "for key, value in success.items():\n",
    "    print(f\"Test Case {key}: {value}\")"
   ]
  }
 ],
 "metadata": {
  "kernelspec": {
   "display_name": "Python 3",
   "language": "python",
   "name": "python3"
  },
  "language_info": {
   "codemirror_mode": {
    "name": "ipython",
    "version": 3
   },
   "file_extension": ".py",
   "mimetype": "text/x-python",
   "name": "python",
   "nbconvert_exporter": "python",
   "pygments_lexer": "ipython3",
   "version": "3.8.3"
  }
 },
 "nbformat": 4,
 "nbformat_minor": 4
}
